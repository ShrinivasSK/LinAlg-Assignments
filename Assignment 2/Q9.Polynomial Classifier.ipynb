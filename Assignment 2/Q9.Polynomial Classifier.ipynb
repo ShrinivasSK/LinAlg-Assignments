{
  "nbformat": 4,
  "nbformat_minor": 0,
  "metadata": {
    "colab": {
      "name": "Question 9.ipynb",
      "provenance": []
    },
    "kernelspec": {
      "name": "python3",
      "display_name": "Python 3"
    },
    "language_info": {
      "name": "python"
    }
  },
  "cells": [
    {
      "cell_type": "markdown",
      "metadata": {
        "id": "RBRg_5XQvlI8"
      },
      "source": [
        "## Linear Algebra for AI and ML\n",
        "\n",
        "### Assignment 2\n",
        "\n",
        "### Question 9\n",
        "\n",
        "### Shrinivas Khiste: 19CS30043"
      ]
    },
    {
      "cell_type": "code",
      "metadata": {
        "id": "86okHM7OvixF"
      },
      "source": [
        "import numpy as np\n",
        "import matplotlib.pyplot as plt\n",
        "%matplotlib inline"
      ],
      "execution_count": null,
      "outputs": []
    },
    {
      "cell_type": "markdown",
      "metadata": {
        "id": "VfXo2btYwnEr"
      },
      "source": [
        "### Generating random vectors X"
      ]
    },
    {
      "cell_type": "code",
      "metadata": {
        "colab": {
          "base_uri": "https://localhost:8080/"
        },
        "id": "1xH84d01wiZI",
        "outputId": "95a196e7-a705-4854-ba57-4dbebc1a47f9"
      },
      "source": [
        "X = np.random.randn(500,2)\n",
        "X.shape"
      ],
      "execution_count": null,
      "outputs": [
        {
          "output_type": "execute_result",
          "data": {
            "text/plain": [
              "(500, 2)"
            ]
          },
          "metadata": {},
          "execution_count": 3
        }
      ]
    },
    {
      "cell_type": "markdown",
      "metadata": {
        "id": "zKfEJSOJw-bM"
      },
      "source": [
        "### Generating y"
      ]
    },
    {
      "cell_type": "code",
      "metadata": {
        "id": "AbbbN9lEw5gj"
      },
      "source": [
        "Y = []\n",
        "for x in X:\n",
        "  if(x[0]*x[1]>=0):\n",
        "    Y.append(1)\n",
        "  else:\n",
        "    Y.append(-1)\n",
        "Y = np.array(Y)"
      ],
      "execution_count": null,
      "outputs": []
    },
    {
      "cell_type": "code",
      "metadata": {
        "colab": {
          "base_uri": "https://localhost:8080/"
        },
        "id": "0uhFYje3xKBs",
        "outputId": "6afb11b2-04ba-4678-db0a-82bef566fd41"
      },
      "source": [
        "Y.shape"
      ],
      "execution_count": null,
      "outputs": [
        {
          "output_type": "execute_result",
          "data": {
            "text/plain": [
              "(500,)"
            ]
          },
          "metadata": {},
          "execution_count": 5
        }
      ]
    },
    {
      "cell_type": "markdown",
      "metadata": {
        "id": "T612Hng1ACDh"
      },
      "source": [
        "### Generating A matrix\n",
        "![3.png](data:image/png;base64,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)\n",
        "\n"
      ]
    },
    {
      "cell_type": "code",
      "metadata": {
        "colab": {
          "base_uri": "https://localhost:8080/"
        },
        "id": "9nuvjl9_xO3B",
        "outputId": "67e70cf6-430e-4db0-ba33-3fe24c5b4a86"
      },
      "source": [
        "A = np.array([np.ones(500), X[:,0], X[:,1] , X[:,0]*X[:,1], X[:,0]**2 ,X[:,1]**2 ])\n",
        "A = np.transpose(A)\n",
        "A.shape"
      ],
      "execution_count": null,
      "outputs": [
        {
          "output_type": "execute_result",
          "data": {
            "text/plain": [
              "(500, 6)"
            ]
          },
          "metadata": {},
          "execution_count": 6
        }
      ]
    },
    {
      "cell_type": "markdown",
      "metadata": {
        "id": "RyMwZllcBo4G"
      },
      "source": [
        "### Solving System of Linear Equations"
      ]
    },
    {
      "cell_type": "code",
      "metadata": {
        "id": "2zJGBh_lBVbO"
      },
      "source": [
        "def solve(A,b):\n",
        "  a_plus = np.linalg.inv(np.dot(np.transpose(A), A))\n",
        "  x_hat = np.dot(a_plus,np.dot(np.transpose(A),b))\n",
        "  return x_hat"
      ],
      "execution_count": null,
      "outputs": []
    },
    {
      "cell_type": "code",
      "metadata": {
        "id": "8kg2ZO_5B14k"
      },
      "source": [
        "theta_hat = solve(A,Y)"
      ],
      "execution_count": null,
      "outputs": []
    },
    {
      "cell_type": "code",
      "metadata": {
        "colab": {
          "base_uri": "https://localhost:8080/"
        },
        "id": "LJJJ2pVaB4Bk",
        "outputId": "aa03c9d5-fb7b-422d-b196-c20d54477c5b"
      },
      "source": [
        "theta_hat.shape"
      ],
      "execution_count": null,
      "outputs": [
        {
          "output_type": "execute_result",
          "data": {
            "text/plain": [
              "(6,)"
            ]
          },
          "metadata": {},
          "execution_count": 12
        }
      ]
    },
    {
      "cell_type": "code",
      "metadata": {
        "colab": {
          "base_uri": "https://localhost:8080/"
        },
        "id": "PLELBxZwB5o4",
        "outputId": "3059b680-4ab6-4d7e-ade3-c2d0d89edda2"
      },
      "source": [
        "theta_hat"
      ],
      "execution_count": null,
      "outputs": [
        {
          "output_type": "execute_result",
          "data": {
            "text/plain": [
              "array([ 0.04645604, -0.02592527,  0.00946176,  0.72366631, -0.03461467,\n",
              "        0.03991082])"
            ]
          },
          "metadata": {},
          "execution_count": 13
        }
      ]
    },
    {
      "cell_type": "markdown",
      "metadata": {
        "id": "ddBBRASgCBU4"
      },
      "source": [
        "### The Prediction"
      ]
    },
    {
      "cell_type": "code",
      "metadata": {
        "id": "2GUlA7QLB7Xn"
      },
      "source": [
        "y_hat = np.dot(A,theta_hat)"
      ],
      "execution_count": null,
      "outputs": []
    },
    {
      "cell_type": "code",
      "metadata": {
        "colab": {
          "base_uri": "https://localhost:8080/"
        },
        "id": "Dpgo85WLCJkM",
        "outputId": "2164e3d7-82e4-4351-8b74-e454fa662fc6"
      },
      "source": [
        "y_hat.shape"
      ],
      "execution_count": null,
      "outputs": [
        {
          "output_type": "execute_result",
          "data": {
            "text/plain": [
              "(500,)"
            ]
          },
          "metadata": {},
          "execution_count": 16
        }
      ]
    },
    {
      "cell_type": "code",
      "metadata": {
        "id": "drkOinuaCPq1"
      },
      "source": [
        "y_tilde = [1 if i>0 else -1 for i in y_hat]"
      ],
      "execution_count": null,
      "outputs": []
    },
    {
      "cell_type": "code",
      "metadata": {
        "colab": {
          "base_uri": "https://localhost:8080/"
        },
        "id": "e0rAJKc9CUrV",
        "outputId": "848530b6-e6ac-48f2-eeed-8dd3414ff953"
      },
      "source": [
        "len(y_tilde)"
      ],
      "execution_count": null,
      "outputs": [
        {
          "output_type": "execute_result",
          "data": {
            "text/plain": [
              "500"
            ]
          },
          "metadata": {},
          "execution_count": 19
        }
      ]
    },
    {
      "cell_type": "markdown",
      "metadata": {
        "id": "G28YVFM9CYdl"
      },
      "source": [
        "### Confusion Matrix"
      ]
    },
    {
      "cell_type": "code",
      "metadata": {
        "id": "lecx062qCWtx"
      },
      "source": [
        "true_pos = 0\n",
        "true_neg = 0\n",
        "false_pos = 0\n",
        "false_neg = 0"
      ],
      "execution_count": null,
      "outputs": []
    },
    {
      "cell_type": "code",
      "metadata": {
        "id": "YlyAVtdPCfCS"
      },
      "source": [
        "for i in range(500):\n",
        "  if(Y[i]==y_tilde[i]):\n",
        "    if(Y[i]==1):\n",
        "      true_pos+=1\n",
        "    else:\n",
        "      true_neg+=1\n",
        "  else:\n",
        "    if(y_tilde[i]==1):\n",
        "      false_pos+=1\n",
        "    else:\n",
        "      false_neg+=1ylist"
      ],
      "execution_count": null,
      "outputs": []
    },
    {
      "cell_type": "code",
      "metadata": {
        "colab": {
          "base_uri": "https://localhost:8080/"
        },
        "id": "Th_5tSWAFl85",
        "outputId": "1d70bd14-7308-4f6b-818c-9759bba697dc"
      },
      "source": [
        "print(\"True Positive: \",true_pos)\n",
        "print(\"False Positive: \",false_pos)\n",
        "print(\"True Negative: \",true_neg)\n",
        "print(\"False Negative: \",false_neg)"
      ],
      "execution_count": null,
      "outputs": [
        {
          "output_type": "stream",
          "name": "stdout",
          "text": [
            "True Positive:  266\n",
            "False Positive:  37\n",
            "True Negative:  196\n",
            "False Negative:  1\n"
          ]
        }
      ]
    },
    {
      "cell_type": "code",
      "metadata": {
        "colab": {
          "base_uri": "https://localhost:8080/"
        },
        "id": "StQlQngHE0c5",
        "outputId": "b272872e-9d15-4211-9733-4bcbf59ca110"
      },
      "source": [
        "print(\"Confusion Matrix: \")\n",
        "print(\"|-------|----------------------------|\")\n",
        "print(\"|-------|        Predicted           |\")\n",
        "print(\"|---|---|---------------|------------|\")\n",
        "print(\"|   |   |       0       |      1     |\")\n",
        "print(\"| T |---|---------------|------------|\")\n",
        "print(\"| r | 0 |      \"+str(true_neg)+\"      |     \"+str(false_pos)+\"     |\")\n",
        "print(\"| u |---|---------------|------------|\")\n",
        "print(\"| e | 1 |      \"+str(false_neg)+\"        |     \"+str(true_pos)+\"    |\")\n",
        "print(\"|---|---|---------------|------------|\")"
      ],
      "execution_count": null,
      "outputs": [
        {
          "output_type": "stream",
          "name": "stdout",
          "text": [
            "Confusion Matrix: \n",
            "|-------|----------------------------|\n",
            "|-------|        Predicted           |\n",
            "|---|---|---------------|------------|\n",
            "|   |   |       0       |      1     |\n",
            "| T |---|---------------|------------|\n",
            "| r | 0 |      196      |     37     |\n",
            "| u |---|---------------|------------|\n",
            "| e | 1 |      1        |     266    |\n",
            "|---|---|---------------|------------|\n"
          ]
        }
      ]
    },
    {
      "cell_type": "code",
      "metadata": {
        "colab": {
          "base_uri": "https://localhost:8080/"
        },
        "id": "frHGFzHvF-Jk",
        "outputId": "6b7bab60-b253-4eb2-81a4-1885d99a8d5f"
      },
      "source": [
        "print(\"Accuracy: \"+str((true_neg+true_pos)/5)+\"%\")\n",
        "print(\"Error Rate: \"+str((false_pos+false_neg)/500))"
      ],
      "execution_count": null,
      "outputs": [
        {
          "output_type": "stream",
          "name": "stdout",
          "text": [
            "Accuracy: 92.4%\n",
            "Error Rate: 0.076\n"
          ]
        }
      ]
    },
    {
      "cell_type": "markdown",
      "metadata": {
        "id": "VebqQYzVJk__"
      },
      "source": [
        "### Distribution in R^2"
      ]
    },
    {
      "cell_type": "code",
      "metadata": {
        "colab": {
          "base_uri": "https://localhost:8080/",
          "height": 483
        },
        "id": "TmdQNC5hIm_H",
        "outputId": "710ae78c-89f6-4e63-d47d-85e8b0a8ef8f"
      },
      "source": [
        "_ = plt.figure(figsize=(10, 8))\n",
        "x_region = np.linspace(-3.0, 3.0, 100)\n",
        "y_region = np.linspace(-3.0, 3.0, 100)\n",
        "Xgrid,Ygrid = np.meshgrid(x_region, y_region)\n",
        "F = theta_hat[0] + theta_hat[1]*Xgrid + theta_hat[2]*Ygrid + theta_hat[3]*Xgrid*Ygrid +theta_hat[4]*Xgrid**2 + theta_hat[5]*Ygrid**2\n",
        "\n",
        "X_pos, Y_pos = Xgrid[F >= 0], Ygrid[F >= 0]\n",
        "X_neg, Y_neg = Xgrid[F < 0], Ygrid[F < 0]\n",
        "_ = plt.scatter(X_pos, Y_pos, marker=\",\",color='blue')\n",
        "_ = plt.scatter(X_neg, Y_neg, marker=\",\",color='red')"
      ],
      "execution_count": null,
      "outputs": [
        {
          "output_type": "display_data",
          "data": {
            "image/png": "[encoded data removed]",
            "text/plain": [
              "<Figure size 720x576 with 1 Axes>"
            ]
          },
          "metadata": {
            "needs_background": "light"
          }
        }
      ]
    },
    {
      "cell_type": "markdown",
      "metadata": {
        "id": "Etpdanz5MM4X"
      },
      "source": [
        "c) Yes, the polynomial g=x1x2 will classify the generated points with zero error. As it is the function used to generate the y values. That is after applying sign function it will be the same as y.\n",
        "\n",
        "The parameter of x1x2 in f is 0.72 which is larger than the other parameters in theta. Therefore the least square solution is close to the actual solution that we want. "
      ]
    },
    {
      "cell_type": "code",
      "metadata": {
        "id": "5N2gMAI5L7Ag"
      },
      "source": [
        ""
      ],
      "execution_count": null,
      "outputs": []
    }
  ]
}
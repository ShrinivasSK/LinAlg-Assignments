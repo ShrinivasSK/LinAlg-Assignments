{
  "nbformat": 4,
  "nbformat_minor": 0,
  "metadata": {
    "colab": {
      "name": "Question 7.ipynb",
      "provenance": []
    },
    "kernelspec": {
      "name": "python3",
      "display_name": "Python 3"
    },
    "language_info": {
      "name": "python"
    }
  },
  "cells": [
    {
      "cell_type": "markdown",
      "metadata": {
        "id": "U-q0N_3XptGy"
      },
      "source": [
        "## Linear Algebra for AI and ML\n",
        "\n",
        "### Assignment 2\n",
        "\n",
        "### Question 7\n",
        "\n",
        "### Shrinivas Khiste: 19CS30043"
      ]
    },
    {
      "cell_type": "code",
      "metadata": {
        "id": "1LHNZy-Wpp7V"
      },
      "source": [
        "import numpy as np"
      ],
      "execution_count": null,
      "outputs": []
    },
    {
      "cell_type": "markdown",
      "metadata": {
        "id": "rA7bWnOTp56x"
      },
      "source": [
        "### Generating random 30x10 and 30x1 matrices"
      ]
    },
    {
      "cell_type": "code",
      "metadata": {
        "id": "VA_CItnVp38a"
      },
      "source": [
        "A = np.random.randn(30,10)\n",
        "b = np.random.randn(30,1)"
      ],
      "execution_count": null,
      "outputs": []
    },
    {
      "cell_type": "markdown",
      "metadata": {
        "id": "s3XNms1GqU5x"
      },
      "source": [
        "### Calculating Rank"
      ]
    },
    {
      "cell_type": "code",
      "metadata": {
        "colab": {
          "base_uri": "https://localhost:8080/"
        },
        "id": "OneV09lcqHMN",
        "outputId": "ed95b5cd-388e-4b5c-886e-4ea3214a46b3"
      },
      "source": [
        "rank = np.linalg.matrix_rank(A)\n",
        "rank"
      ],
      "execution_count": null,
      "outputs": [
        {
          "output_type": "execute_result",
          "data": {
            "text/plain": [
              "10"
            ]
          },
          "metadata": {},
          "execution_count": 3
        }
      ]
    },
    {
      "cell_type": "markdown",
      "metadata": {
        "id": "ioSkFBPtqber"
      },
      "source": [
        "As this is a full column rank matrix. We can use it for the further calculations"
      ]
    },
    {
      "cell_type": "markdown",
      "metadata": {
        "id": "ddB9sA7SqtnP"
      },
      "source": [
        "### Formula Solution\n",
        "![1.png](data:image/png;base64,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)\n",
        "\n"
      ]
    },
    {
      "cell_type": "code",
      "metadata": {
        "colab": {
          "base_uri": "https://localhost:8080/"
        },
        "id": "Y87hdp1FqaUZ",
        "outputId": "02e8e501-ea91-4f90-def8-767297fe2ea8"
      },
      "source": [
        "a_plus = np.linalg.inv(np.dot(np.transpose(A), A))\n",
        "x_hat = np.dot(a_plus,np.dot(np.transpose(A),b))\n",
        "x_hat"
      ],
      "execution_count": null,
      "outputs": [
        {
          "output_type": "execute_result",
          "data": {
            "text/plain": [
              "array([[-0.33745943],\n",
              "       [ 0.1278939 ],\n",
              "       [ 0.02624531],\n",
              "       [-0.07951961],\n",
              "       [ 0.02518464],\n",
              "       [-0.43989712],\n",
              "       [ 0.07961641],\n",
              "       [ 0.162793  ],\n",
              "       [-0.38175498],\n",
              "       [ 0.02733649]])"
            ]
          },
          "metadata": {},
          "execution_count": 4
        }
      ]
    },
    {
      "cell_type": "markdown",
      "metadata": {
        "id": "rYc8W9y0rtqI"
      },
      "source": [
        "### Iterative Solution\n",
        "\n",
        "$$\\displaystyle x^{(k+1)}=x^{(k)}-\\frac{1}{||A||^2}A^T(Ax^{(k)}-b)$$"
      ]
    },
    {
      "cell_type": "code",
      "metadata": {
        "id": "yeJiccv6rrEt"
      },
      "source": [
        "def iterative_algo(A,b,x):\n",
        "  diff = np.dot(A,x)-b\n",
        "  norm = np.linalg.norm(A, 2)\n",
        "  x_next = x - (np.dot(np.transpose(A),diff))/(norm**2)\n",
        "  return x_next"
      ],
      "execution_count": null,
      "outputs": []
    },
    {
      "cell_type": "code",
      "metadata": {
        "id": "sMmjlYQts7rr"
      },
      "source": [
        "x = np.zeros((10,1))\n",
        "dists = []\n",
        "for i in range(100):\n",
        "  x = iterative_algo(A,b,x)\n",
        "  dist = np.linalg.norm(x - x_hat)\n",
        "  dists.append(dist)"
      ],
      "execution_count": null,
      "outputs": []
    },
    {
      "cell_type": "code",
      "metadata": {
        "id": "4Ap6Ba5ouCLM"
      },
      "source": [
        "import matplotlib.pyplot as plt\n",
        "%matplotlib inline"
      ],
      "execution_count": null,
      "outputs": []
    },
    {
      "cell_type": "code",
      "metadata": {
        "colab": {
          "base_uri": "https://localhost:8080/",
          "height": 282
        },
        "id": "cH3KDck9ugix",
        "outputId": "0825fa3a-8df5-46f4-ed8c-20ff1dbeb663"
      },
      "source": [
        "plt.plot(dists)"
      ],
      "execution_count": null,
      "outputs": [
        {
          "output_type": "execute_result",
          "data": {
            "text/plain": [
              "[<matplotlib.lines.Line2D at 0x7f64d8e72a10>]"
            ]
          },
          "metadata": {},
          "execution_count": 20
        },
        {
          "output_type": "display_data",
          "data": {
            "image/png": "[encoded data removed]",
            "text/plain": [
              "<Figure size 432x288 with 1 Axes>"
            ]
          },
          "metadata": {
            "needs_background": "light"
          }
        }
      ]
    },
    {
      "cell_type": "markdown",
      "metadata": {
        "id": "u3bvQgBVukbX"
      },
      "source": [
        "From the above plot, we can see that the iterative solution converges to the formula solution. \n",
        "\n",
        "Mathematical proof is in there in the solution. "
      ]
    },
    {
      "cell_type": "code",
      "metadata": {
        "colab": {
          "base_uri": "https://localhost:8080/"
        },
        "id": "Gd8SMKsDuiHo",
        "outputId": "3ba65421-edcb-448f-e632-da565fe00e0b"
      },
      "source": [
        "print(\"Formula LS solution:\\n\",x_hat)\n",
        "print(\"Iterative LS Solution:\\n\",x)\n",
        "print(\"Norm of their difference: \",np.linalg.norm(x_hat-x))"
      ],
      "execution_count": null,
      "outputs": [
        {
          "output_type": "stream",
          "name": "stdout",
          "text": [
            "Formula LS solution:\n",
            " [[-0.33745943]\n",
            " [ 0.1278939 ]\n",
            " [ 0.02624531]\n",
            " [-0.07951961]\n",
            " [ 0.02518464]\n",
            " [-0.43989712]\n",
            " [ 0.07961641]\n",
            " [ 0.162793  ]\n",
            " [-0.38175498]\n",
            " [ 0.02733649]]\n",
            "Iterative LS Solution:\n",
            " [[-0.33745899]\n",
            " [ 0.12789437]\n",
            " [ 0.02624539]\n",
            " [-0.07951915]\n",
            " [ 0.02518509]\n",
            " [-0.43989621]\n",
            " [ 0.07961578]\n",
            " [ 0.16279288]\n",
            " [-0.38175398]\n",
            " [ 0.02733634]]\n",
            "Norm of their difference:  1.7543554572932945e-06\n"
          ]
        }
      ]
    },
    {
      "cell_type": "markdown",
      "metadata": {
        "id": "yY_2_oh_vIXL"
      },
      "source": [
        "Hence the iterative LS converges to the formula solution. "
      ]
    },
    {
      "cell_type": "code",
      "metadata": {
        "id": "DCdrZ1cDvBuH"
      },
      "source": [
        ""
      ],
      "execution_count": null,
      "outputs": []
    }
  ]
}
{
  "nbformat": 4,
  "nbformat_minor": 0,
  "metadata": {
    "colab": {
      "name": "Question 10.ipynb",
      "provenance": []
    },
    "kernelspec": {
      "name": "python3",
      "display_name": "Python 3"
    },
    "language_info": {
      "name": "python"
    }
  },
  "cells": [
    {
      "cell_type": "markdown",
      "metadata": {
        "id": "SX-floHnNmyI"
      },
      "source": [
        "## Linear Algebra for AI and ML\n",
        "\n",
        "### Assignment 2\n",
        "\n",
        "### Question 10\n",
        "\n",
        "### Shrinivas Khiste: 19CS30043"
      ]
    },
    {
      "cell_type": "code",
      "metadata": {
        "id": "ifasyXaoNhNc"
      },
      "source": [
        "from keras.datasets import mnist\n",
        "import numpy as np\n",
        "from sklearn.metrics import confusion_matrix"
      ],
      "execution_count": null,
      "outputs": []
    },
    {
      "cell_type": "markdown",
      "metadata": {
        "id": "nlgC0d0KNy9J"
      },
      "source": [
        "### Input Data"
      ]
    },
    {
      "cell_type": "code",
      "metadata": {
        "colab": {
          "base_uri": "https://localhost:8080/"
        },
        "id": "gVNzyzsMNwWV",
        "outputId": "0383f17e-57e7-4dcb-9c5b-06a2d2219afa"
      },
      "source": [
        "(x_train,y_train),(x_test,y_test)=mnist.load_data()\n",
        "print(\"Train Shape: \",x_train.shape)\n",
        "print(\"Test Shape: \",x_test.shape)"
      ],
      "execution_count": null,
      "outputs": [
        {
          "output_type": "stream",
          "name": "stdout",
          "text": [
            "Downloading data from https://storage.googleapis.com/tensorflow/tf-keras-datasets/mnist.npz\n",
            "11493376/11490434 [==============================] - 0s 0us/step\n",
            "11501568/11490434 [==============================] - 0s 0us/step\n",
            "Train Shape:  (60000, 28, 28)\n",
            "Test Shape:  (10000, 28, 28)\n"
          ]
        }
      ]
    },
    {
      "cell_type": "code",
      "metadata": {
        "id": "kmkL220POExn"
      },
      "source": [
        "X = np.reshape(x_train,(60000,784))\n",
        "Y = y_train"
      ],
      "execution_count": null,
      "outputs": []
    },
    {
      "cell_type": "markdown",
      "metadata": {
        "id": "At0YIiddObRC"
      },
      "source": [
        "### Generating Train Data"
      ]
    },
    {
      "cell_type": "code",
      "metadata": {
        "id": "9b0qOJhcOvpL"
      },
      "source": [
        "X_train = []\n",
        "Y_train = []"
      ],
      "execution_count": null,
      "outputs": []
    },
    {
      "cell_type": "code",
      "metadata": {
        "id": "Xa7J18q6OL1g"
      },
      "source": [
        "for dig in range(10):\n",
        "  num = 0\n",
        "  for i in range(len(Y)):\n",
        "    if Y[i] == dig:\n",
        "      X_train.append(X[i]/255)\n",
        "      Y_train.append(dig)\n",
        "      num += 1\n",
        "    if num >= 1000:\n",
        "      break"
      ],
      "execution_count": null,
      "outputs": []
    },
    {
      "cell_type": "code",
      "metadata": {
        "id": "xRqa6vA0O29h"
      },
      "source": [
        "X_train = np.array(X_train)\n",
        "Y_train = np.array(Y_train)"
      ],
      "execution_count": null,
      "outputs": []
    },
    {
      "cell_type": "code",
      "metadata": {
        "colab": {
          "base_uri": "https://localhost:8080/"
        },
        "id": "Qo52xKopO588",
        "outputId": "44ff941a-6888-4cae-861f-a475b10e748a"
      },
      "source": [
        "X_train.shape,Y_train.shape"
      ],
      "execution_count": null,
      "outputs": [
        {
          "output_type": "execute_result",
          "data": {
            "text/plain": [
              "((10000, 784), (10000,))"
            ]
          },
          "metadata": {},
          "execution_count": 10
        }
      ]
    },
    {
      "cell_type": "markdown",
      "metadata": {
        "id": "kLWjfT1wPFLa"
      },
      "source": [
        "### Generating Test Data"
      ]
    },
    {
      "cell_type": "code",
      "metadata": {
        "id": "KAWm7SgzO63V"
      },
      "source": [
        "X_test = []\n",
        "Y_test = []"
      ],
      "execution_count": null,
      "outputs": []
    },
    {
      "cell_type": "code",
      "metadata": {
        "id": "6UDoUhjhPI9r"
      },
      "source": [
        "for dig in range(10):\n",
        "  num = 0\n",
        "  for i in range(len(Y)):\n",
        "    if Y[i] == dig:\n",
        "      X_test.append(X[i]/255)\n",
        "      Y_test.append(dig)\n",
        "      num += 1\n",
        "    if num >= 100:\n",
        "      break"
      ],
      "execution_count": null,
      "outputs": []
    },
    {
      "cell_type": "code",
      "metadata": {
        "id": "BOsa73DnPNO4"
      },
      "source": [
        "X_test = np.array(X_test)\n",
        "Y_test = np.array(Y_test)"
      ],
      "execution_count": null,
      "outputs": []
    },
    {
      "cell_type": "code",
      "metadata": {
        "colab": {
          "base_uri": "https://localhost:8080/"
        },
        "id": "D-4vLxJuPPpp",
        "outputId": "4a986e11-22a5-4faf-9f2c-a016d868736a"
      },
      "source": [
        "X_test.shape,Y_test.shape"
      ],
      "execution_count": null,
      "outputs": [
        {
          "output_type": "execute_result",
          "data": {
            "text/plain": [
              "((1000, 784), (1000,))"
            ]
          },
          "metadata": {},
          "execution_count": 14
        }
      ]
    },
    {
      "cell_type": "markdown",
      "metadata": {
        "id": "zcHGX82YPa_T"
      },
      "source": [
        "### Fitting Least Square Classifier\n",
        "\n",
        "Ax=b is equation for each digit\n",
        "\n",
        "Rows of A will be image vectors, that is, X_train vector\n",
        "\n",
        "b will be a 1 if that digit is present else -1"
      ]
    },
    {
      "cell_type": "code",
      "metadata": {
        "id": "uByvzvbBS_8-"
      },
      "source": [
        "y_confid = [[] for i in range(1000)]"
      ],
      "execution_count": null,
      "outputs": []
    },
    {
      "cell_type": "code",
      "metadata": {
        "id": "WhYnAtNoSF-Q"
      },
      "source": [
        "A_pseudo = np.linalg.pinv(X_train)"
      ],
      "execution_count": null,
      "outputs": []
    },
    {
      "cell_type": "code",
      "metadata": {
        "id": "eU_UkquhSOYu"
      },
      "source": [
        "for digit in range(10):\n",
        "  b_=[]\n",
        "  for i in range(len(Y_train)):\n",
        "    if(Y_train[i]==digit):\n",
        "      b_.append(1)\n",
        "    else:\n",
        "      b_.append(-1)\n",
        "  b_dig = np.array(b_)\n",
        "  b_dig = np.reshape(b_dig,(len(Y_train),1))\n",
        "\n",
        "  theta = np.matmul(A_pseudo,b_dig)\n",
        "  confid = np.matmul(X_test,theta)\n",
        "  confid=confid.flatten()\n",
        "\n",
        "  for i in range(1000):\n",
        "    y_confid[i].append(confid[i])"
      ],
      "execution_count": null,
      "outputs": []
    },
    {
      "cell_type": "code",
      "metadata": {
        "colab": {
          "base_uri": "https://localhost:8080/"
        },
        "id": "tc6ycM6FTfMY",
        "outputId": "5649e256-9443-4f6c-c6da-ef665e664a03"
      },
      "source": [
        "len(y_confid)"
      ],
      "execution_count": null,
      "outputs": [
        {
          "output_type": "execute_result",
          "data": {
            "text/plain": [
              "1000"
            ]
          },
          "metadata": {},
          "execution_count": 30
        }
      ]
    },
    {
      "cell_type": "code",
      "metadata": {
        "id": "cuClWjY6TKs2"
      },
      "source": [
        "y_pred = [np.argmax(y) for y in y_confid]"
      ],
      "execution_count": null,
      "outputs": []
    },
    {
      "cell_type": "markdown",
      "metadata": {
        "id": "ranl14K0Tn86"
      },
      "source": [
        "### Confusion Matrix"
      ]
    },
    {
      "cell_type": "code",
      "metadata": {
        "id": "7G9iHkCPTYN2"
      },
      "source": [
        "confMat = confusion_matrix(y_pred,Y_test,labels=[0,1,2,3,4,5,6,7,8,9])"
      ],
      "execution_count": null,
      "outputs": []
    },
    {
      "cell_type": "code",
      "metadata": {
        "colab": {
          "base_uri": "https://localhost:8080/"
        },
        "id": "cFI_J4uDTwqN",
        "outputId": "328da6d0-b0e3-419e-df45-e0e4854b7443"
      },
      "source": [
        "print(confMat)"
      ],
      "execution_count": null,
      "outputs": [
        {
          "output_type": "stream",
          "name": "stdout",
          "text": [
            "[[97  1  1  0  0  0  1  1  0  1]\n",
            " [ 0 94  7  1  0  1  2  5  5  1]\n",
            " [ 1  1 79  2  0  1  1  1  1  0]\n",
            " [ 0  0  2 88  0 11  0  1  2  2]\n",
            " [ 0  1  1  0 93  2  1  2  1  6]\n",
            " [ 1  0  1  4  1 73  1  0  4  0]\n",
            " [ 1  0  3  0  1  2 94  0  0  0]\n",
            " [ 0  0  2  1  2  0  0 83  0  6]\n",
            " [ 0  3  3  1  1  6  0  1 85  2]\n",
            " [ 0  0  1  3  2  4  0  6  2 82]]\n"
          ]
        }
      ]
    },
    {
      "cell_type": "markdown",
      "metadata": {
        "id": "zwhbtwJXTzkK"
      },
      "source": [
        "### Accuracy"
      ]
    },
    {
      "cell_type": "code",
      "metadata": {
        "id": "lSbslPJFTxvl"
      },
      "source": [
        "test_accuracy = 0\n",
        "for i in range(10):\n",
        "  test_accuracy+=confMat[i][i]"
      ],
      "execution_count": null,
      "outputs": []
    },
    {
      "cell_type": "code",
      "metadata": {
        "colab": {
          "base_uri": "https://localhost:8080/"
        },
        "id": "XVypM0zhT7VV",
        "outputId": "e7211546-6326-4a6c-851f-326365228cba"
      },
      "source": [
        "print(\"Accuracy: \"+str(test_accuracy/10)+\"%\")"
      ],
      "execution_count": null,
      "outputs": [
        {
          "output_type": "stream",
          "name": "stdout",
          "text": [
            "Accuracy: 86.8%\n"
          ]
        }
      ]
    },
    {
      "cell_type": "code",
      "metadata": {
        "id": "f6eyzydEUBXd"
      },
      "source": [
        ""
      ],
      "execution_count": null,
      "outputs": []
    }
  ]
}
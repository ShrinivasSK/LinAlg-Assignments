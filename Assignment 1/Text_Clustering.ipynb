{
  "nbformat": 4,
  "nbformat_minor": 0,
  "metadata": {
    "colab": {
      "name": "Text Clustering.ipynb",
      "provenance": []
    },
    "kernelspec": {
      "name": "python3",
      "display_name": "Python 3"
    },
    "language_info": {
      "name": "python"
    }
  },
  "cells": [
    {
      "cell_type": "markdown",
      "metadata": {
        "id": "2fFKHPs8u8a8"
      },
      "source": [
        "## Linear Algebra Assignment I \n",
        "Name: Shrinivas Khiste\n",
        "\n",
        "Rno: 19CS30043\n",
        "\n",
        "### Q10. Text Clustering"
      ]
    },
    {
      "cell_type": "markdown",
      "metadata": {
        "id": "7iTrG-BfvEdh"
      },
      "source": [
        "## Imports"
      ]
    },
    {
      "cell_type": "code",
      "metadata": {
        "colab": {
          "base_uri": "https://localhost:8080/"
        },
        "id": "QLRpMh7NoZLu",
        "outputId": "f292eb14-ddce-4bf8-ff4e-054a7b6b3871"
      },
      "source": [
        "!pip install wikipedia --quiet"
      ],
      "execution_count": 1,
      "outputs": [
        {
          "output_type": "stream",
          "name": "stdout",
          "text": [
            "  Building wheel for wikipedia (setup.py) ... \u001b[?25l\u001b[?25hdone\n"
          ]
        }
      ]
    },
    {
      "cell_type": "code",
      "metadata": {
        "id": "Biprq3LTvECA"
      },
      "source": [
        "import pandas as pd\n",
        "import wikipedia\n",
        "\n",
        "from sklearn.feature_extraction.text import TfidfVectorizer\n",
        "\n",
        "import numpy as np"
      ],
      "execution_count": 2,
      "outputs": []
    },
    {
      "cell_type": "markdown",
      "metadata": {
        "id": "4KBTANA8vBoo"
      },
      "source": [
        "## Loading Data"
      ]
    },
    {
      "cell_type": "code",
      "metadata": {
        "colab": {
          "base_uri": "https://localhost:8080/"
        },
        "id": "cit0VpZopcv1",
        "outputId": "23c0360e-cfcd-4688-d420-65041fd14fea"
      },
      "source": [
        "articles = ['Linear algebra','Data Science','Artificial intelligence','European Central Bank',\n",
        "            'Financial technology','International Monetary Fund','Basketball','Swimming',\n",
        "            'Cricket']\n",
        "\n",
        "wiki_list=[]\n",
        "title=[]\n",
        "for article in articles:\n",
        "  print(\"Loading Content: \",article)\n",
        "  wiki_list.append(wikipedia.page(article).content)\n",
        "  title.append(article)"
      ],
      "execution_count": 3,
      "outputs": [
        {
          "output_type": "stream",
          "name": "stdout",
          "text": [
            "Loading Content:  Linear algebra\n",
            "Loading Content:  Data Science\n",
            "Loading Content:  Artificial intelligence\n",
            "Loading Content:  European Central Bank\n",
            "Loading Content:  Financial technology\n",
            "Loading Content:  International Monetary Fund\n",
            "Loading Content:  Basketball\n",
            "Loading Content:  Swimming\n",
            "Loading Content:  Cricket\n"
          ]
        }
      ]
    },
    {
      "cell_type": "markdown",
      "metadata": {
        "id": "-CUgVfEUq9XF"
      },
      "source": [
        "## TFIDF Vectoriser"
      ]
    },
    {
      "cell_type": "code",
      "metadata": {
        "id": "N8p7G2S0qnPX"
      },
      "source": [
        "vectoriser = TfidfVectorizer(stop_words=('english'))\n",
        "X = vectoriser.fit_transform(wiki_list)\n",
        "X=X.toarray()"
      ],
      "execution_count": 4,
      "outputs": []
    },
    {
      "cell_type": "code",
      "metadata": {
        "colab": {
          "base_uri": "https://localhost:8080/"
        },
        "id": "usQV1AKFrUWX",
        "outputId": "ae71b85a-7aa4-428c-e062-f1414c273e9b"
      },
      "source": [
        "print(X.shape) # number of documents x number of unique words"
      ],
      "execution_count": 5,
      "outputs": [
        {
          "output_type": "stream",
          "name": "stdout",
          "text": [
            "(9, 8031)\n"
          ]
        }
      ]
    },
    {
      "cell_type": "markdown",
      "metadata": {
        "id": "BJcAHD0LLe8L"
      },
      "source": [
        "## K-Means Code"
      ]
    },
    {
      "cell_type": "code",
      "metadata": {
        "id": "iEoobv2YtjE3"
      },
      "source": [
        "def clusterAssignment(X,Z):\n",
        "  C = np.zeros(shape=X.shape[0],dtype='int')\n",
        "  for i,x in enumerate(X):\n",
        "     C[i]= np.argmin(np.array([np.linalg.norm(x-z) for z in Z]),axis=0)\n",
        "  return C"
      ],
      "execution_count": 6,
      "outputs": []
    },
    {
      "cell_type": "code",
      "metadata": {
        "id": "e3BxX0xALhaa"
      },
      "source": [
        "def updateRepresentatives(X,C,k):\n",
        "  Z = np.zeros(shape=(k,X.shape[1]))\n",
        "  for i in range(0,k):\n",
        "    cluster = [x for j,x in enumerate(X) if C[j]==i]\n",
        "    if(len(cluster)>0):\n",
        "      Z[i]=sum(cluster)/len(cluster)\n",
        "  return Z"
      ],
      "execution_count": 7,
      "outputs": []
    },
    {
      "cell_type": "code",
      "metadata": {
        "id": "lj4Co1xALikl"
      },
      "source": [
        "def calculateJClust(X,Z,C):\n",
        "  J=0\n",
        "  for i,x in enumerate(X):\n",
        "    z=Z[C[i]]\n",
        "    J+=np.linalg.norm(x-z)\n",
        "  J/=X.shape[0]\n",
        "  return J"
      ],
      "execution_count": 8,
      "outputs": []
    },
    {
      "cell_type": "code",
      "metadata": {
        "id": "hBrzxjtTLjsS"
      },
      "source": [
        "def runKMeans(Z,X,k,verbose=0):\n",
        "  JClustPrev=0\n",
        "  numIter=0\n",
        "  while(True):\n",
        "    C = clusterAssignment(X,Z)\n",
        "    Z = updateRepresentatives(X,C,k)\n",
        "    JClust= calculateJClust(X,Z,C)\n",
        "    numIter+=1\n",
        "    if(verbose==1):\n",
        "      print(\"Iteration: \"+str(numIter)+\" JClust: \",JClust)\n",
        "    if(abs(JClustPrev-JClust)<1e-9 or numIter>20):\n",
        "      if(verbose==1):\n",
        "        print(\"Convergence Point Reached. Number of iterations: \",numIter)\n",
        "      break\n",
        "    JClustPrev=JClust\n",
        "  return JClust,Z"
      ],
      "execution_count": 9,
      "outputs": []
    },
    {
      "cell_type": "markdown",
      "metadata": {
        "id": "G0waAKuGLrOw"
      },
      "source": [
        "### Initialisation"
      ]
    },
    {
      "cell_type": "code",
      "metadata": {
        "id": "imqR0CtwLpzB"
      },
      "source": [
        "def initialiseRandom(X,k):\n",
        "  Z = np.random.rand(k,X.shape[1])\n",
        "  return Z"
      ],
      "execution_count": 10,
      "outputs": []
    },
    {
      "cell_type": "code",
      "metadata": {
        "id": "i5ov223kLurq"
      },
      "source": [
        "def initialiseFromData(X,k):\n",
        "  Z = X[np.random.choice(X.shape[0],k,replace=True),:]\n",
        "  return Z"
      ],
      "execution_count": 11,
      "outputs": []
    },
    {
      "cell_type": "markdown",
      "metadata": {
        "id": "AH7YsgvRLwdD"
      },
      "source": [
        "### Main Function"
      ]
    },
    {
      "cell_type": "code",
      "metadata": {
        "id": "QLpHk_tYLmRe"
      },
      "source": [
        "def run(X,k,isRandom,verbose=0):\n",
        "  if isRandom:\n",
        "    Z = initialiseRandom(X,k)\n",
        "  else:\n",
        "    Z=initialiseFromData(X,k)\n",
        "  JClust,Z = runKMeans(Z,X,k,verbose)\n",
        "  if(verbose==1):\n",
        "    print(\"Final JClust: \",JClust)\n",
        "  return JClust,Z"
      ],
      "execution_count": 12,
      "outputs": []
    },
    {
      "cell_type": "markdown",
      "metadata": {
        "id": "ZGAgA4GmL6tS"
      },
      "source": [
        "### (a) Running K Means for k=4,8,12"
      ]
    },
    {
      "cell_type": "code",
      "metadata": {
        "id": "BgdvewcRPCX3"
      },
      "source": [
        "np.random.seed(0)"
      ],
      "execution_count": 13,
      "outputs": []
    },
    {
      "cell_type": "code",
      "metadata": {
        "colab": {
          "base_uri": "https://localhost:8080/"
        },
        "id": "-7sMDeywLome",
        "outputId": "a6b586b7-4765-4511-fe5a-5697e03cb83b"
      },
      "source": [
        "JClust_4,Z_4 = run(X,4,False,1)"
      ],
      "execution_count": 24,
      "outputs": [
        {
          "output_type": "stream",
          "name": "stdout",
          "text": [
            "Iteration: 1 JClust:  0.7753259139123334\n",
            "Iteration: 2 JClust:  0.7753259139123334\n",
            "Convergence Point Reached. Number of iterations:  2\n",
            "Final JClust:  0.7753259139123334\n"
          ]
        }
      ]
    },
    {
      "cell_type": "code",
      "metadata": {
        "colab": {
          "base_uri": "https://localhost:8080/"
        },
        "id": "W7CEqz6xMGzy",
        "outputId": "88f1c9c4-0024-4d5e-db99-1338b8a24f8e"
      },
      "source": [
        "JClust_8,Z_8 = run(X,8,False,1)"
      ],
      "execution_count": 26,
      "outputs": [
        {
          "output_type": "stream",
          "name": "stdout",
          "text": [
            "Iteration: 1 JClust:  0.5644806961618293\n",
            "Iteration: 2 JClust:  0.5644806961618293\n",
            "Convergence Point Reached. Number of iterations:  2\n",
            "Final JClust:  0.5644806961618293\n"
          ]
        }
      ]
    },
    {
      "cell_type": "code",
      "metadata": {
        "colab": {
          "base_uri": "https://localhost:8080/"
        },
        "id": "si-zBv1PMNSf",
        "outputId": "dcce1458-c313-4cda-df5c-deaaa99318d7"
      },
      "source": [
        "JClust_12,Z_12 = run(X,12,False,1)"
      ],
      "execution_count": 28,
      "outputs": [
        {
          "output_type": "stream",
          "name": "stdout",
          "text": [
            "Iteration: 1 JClust:  0.14724195714222163\n",
            "Iteration: 2 JClust:  0.14724195714222163\n",
            "Convergence Point Reached. Number of iterations:  2\n",
            "Final JClust:  0.14724195714222163\n"
          ]
        }
      ]
    },
    {
      "cell_type": "markdown",
      "metadata": {
        "id": "5QLWckwZMhSq"
      },
      "source": [
        "### (b) Find Document Cluster Association"
      ]
    },
    {
      "cell_type": "code",
      "metadata": {
        "id": "44Ryn2UBMPmH"
      },
      "source": [
        "def findDocClusterAssoc(Z,X,articles):\n",
        "  C =clusterAssignment(X,Z)\n",
        "  k=Z.shape[0]\n",
        "  for i in range(0,k):\n",
        "    cluster = [j for j,x in enumerate(X) if C[j]==i]\n",
        "    print(\"Cluster Number \"+str(i+1)+\": \",end=\" \")\n",
        "    for index in cluster:\n",
        "      print(articles[index],end=\",\")\n",
        "    print()"
      ],
      "execution_count": 17,
      "outputs": []
    },
    {
      "cell_type": "code",
      "metadata": {
        "colab": {
          "base_uri": "https://localhost:8080/"
        },
        "id": "SCgSPdI8Nh1r",
        "outputId": "27f116ad-3a8c-42f2-8c75-965a9fc176f2"
      },
      "source": [
        "print(\"For k=4\")\n",
        "findDocClusterAssoc(Z_4,X,articles)"
      ],
      "execution_count": 25,
      "outputs": [
        {
          "output_type": "stream",
          "name": "stdout",
          "text": [
            "For k=4\n",
            "Cluster Number 1:  European Central Bank,Financial technology,International Monetary Fund,\n",
            "Cluster Number 2:  Basketball,Swimming,Cricket,\n",
            "Cluster Number 3:  Linear algebra,Data Science,Artificial intelligence,\n",
            "Cluster Number 4:  \n"
          ]
        }
      ]
    },
    {
      "cell_type": "code",
      "metadata": {
        "colab": {
          "base_uri": "https://localhost:8080/"
        },
        "id": "18XxtTx5NodO",
        "outputId": "7e954c9e-d96b-4111-ad00-b7c1463b5d49"
      },
      "source": [
        "print(\"For k=8\")\n",
        "findDocClusterAssoc(Z_8,X,articles)"
      ],
      "execution_count": 27,
      "outputs": [
        {
          "output_type": "stream",
          "name": "stdout",
          "text": [
            "For k=8\n",
            "Cluster Number 1:  European Central Bank,International Monetary Fund,Cricket,\n",
            "Cluster Number 2:  \n",
            "Cluster Number 3:  Basketball,Swimming,\n",
            "Cluster Number 4:  Linear algebra,\n",
            "Cluster Number 5:  Data Science,Artificial intelligence,\n",
            "Cluster Number 6:  \n",
            "Cluster Number 7:  Financial technology,\n",
            "Cluster Number 8:  \n"
          ]
        }
      ]
    },
    {
      "cell_type": "code",
      "metadata": {
        "colab": {
          "base_uri": "https://localhost:8080/"
        },
        "id": "gfcMOpgHOPuC",
        "outputId": "c80e18c8-c7d6-4a58-ad96-729f24b88251"
      },
      "source": [
        "print(\"For k=12\")\n",
        "findDocClusterAssoc(Z_12,X,articles)"
      ],
      "execution_count": 29,
      "outputs": [
        {
          "output_type": "stream",
          "name": "stdout",
          "text": [
            "For k=12\n",
            "Cluster Number 1:  European Central Bank,\n",
            "Cluster Number 2:  Data Science,Artificial intelligence,\n",
            "Cluster Number 3:  Swimming,\n",
            "Cluster Number 4:  \n",
            "Cluster Number 5:  Linear algebra,\n",
            "Cluster Number 6:  \n",
            "Cluster Number 7:  Financial technology,\n",
            "Cluster Number 8:  International Monetary Fund,\n",
            "Cluster Number 9:  \n",
            "Cluster Number 10:  Basketball,\n",
            "Cluster Number 11:  Cricket,\n",
            "Cluster Number 12:  \n"
          ]
        }
      ]
    },
    {
      "cell_type": "markdown",
      "metadata": {
        "id": "7Q76wlFxPgJu"
      },
      "source": [
        "### (c) Best k for given data\n",
        "\n",
        "I think that k=4 is giving the best results. This is because the topics are largely from 3 domains, namely: Machine Learning, Finance, Sports. And k=4 does a good job of separating them. Although this required multiple re-runs. \n",
        "\n",
        "For k=8 and k=12, the documents just get split into smaller groups and thus even though they have less JClust, it is not an optimal clustering"
      ]
    },
    {
      "cell_type": "code",
      "metadata": {
        "id": "dj09T6iuOUiv"
      },
      "source": [
        ""
      ],
      "execution_count": null,
      "outputs": []
    }
  ]
}
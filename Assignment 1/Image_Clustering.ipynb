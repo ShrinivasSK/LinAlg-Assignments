{
  "nbformat": 4,
  "nbformat_minor": 2,
  "metadata": {
    "colab": {
      "name": "Image Clustering.ipynb",
      "provenance": [],
      "collapsed_sections": []
    },
    "kernelspec": {
      "name": "python3",
      "display_name": "Python 3"
    },
    "language_info": {
      "name": "python"
    }
  },
  "cells": [
    {
      "cell_type": "markdown",
      "source": [
        "## Linear Algebra Assignment I \n",
        "Name: Shrinivas Khiste\n",
        "\n",
        "Rno: 19CS30043\n",
        "\n",
        "### Q9. Image Clustering\n",
        "\n"
      ],
      "metadata": {
        "id": "E7gL5bBfvQHa"
      }
    },
    {
      "cell_type": "markdown",
      "source": [
        "N = number of samples used to train. That is 1000 here\n",
        "\n",
        "n = dimension of input vector i.e 784"
      ],
      "metadata": {
        "id": "dZEmvtVOMTHA"
      }
    },
    {
      "cell_type": "markdown",
      "source": [
        "## Imports"
      ],
      "metadata": {
        "id": "CqYA4MCZzZyF"
      }
    },
    {
      "cell_type": "code",
      "execution_count": 1,
      "source": [
        "import pandas as pd\n",
        "import numpy as np\n",
        "\n",
        "from keras.datasets import mnist\n",
        "\n",
        "import matplotlib.pyplot as plt\n",
        "%matplotlib inline\n",
        "\n",
        "import math\n",
        "from scipy.stats import mode"
      ],
      "outputs": [],
      "metadata": {
        "id": "X2-uihfeunrb"
      }
    },
    {
      "cell_type": "markdown",
      "source": [
        "### About the Dataset\n",
        "- **MNIST**: Modified National Institute of Standards and Technologies\n",
        "- Handwritten digits.\n",
        "- 60k training and 10k testing images\n",
        "- 28x28 pixel 8-bit grayscale image"
      ],
      "metadata": {
        "id": "aDpOZxPuxYNR"
      }
    },
    {
      "cell_type": "markdown",
      "source": [
        "## Preparing Data\n",
        "- Load from keras\n",
        "- Convert to 0-1 float\n",
        "- Take 100 images from each digit"
      ],
      "metadata": {
        "id": "YLvxVez9zgxM"
      }
    },
    {
      "cell_type": "code",
      "execution_count": 2,
      "source": [
        "(x_train,y_train),(x_test,y_test)=mnist.load_data()"
      ],
      "outputs": [],
      "metadata": {
        "id": "Ew1HkPB-xwku"
      }
    },
    {
      "cell_type": "code",
      "execution_count": 3,
      "source": [
        "np.shape(x_train),np.shape(x_test)"
      ],
      "outputs": [
        {
          "output_type": "execute_result",
          "data": {
            "text/plain": [
              "((60000, 28, 28), (10000, 28, 28))"
            ]
          },
          "metadata": {},
          "execution_count": 3
        }
      ],
      "metadata": {
        "colab": {
          "base_uri": "https://localhost:8080/"
        },
        "id": "zDSE2rvrx2UZ",
        "outputId": "3aab3c93-4abc-4c87-8661-891f0be46f63"
      }
    },
    {
      "cell_type": "code",
      "execution_count": 4,
      "source": [
        "plt.imshow(x_train[1],cmap='gray'),y_train[1]"
      ],
      "outputs": [
        {
          "output_type": "execute_result",
          "data": {
            "text/plain": [
              "(<matplotlib.image.AxesImage at 0x7ff6bd0e90d0>, 0)"
            ]
          },
          "metadata": {},
          "execution_count": 4
        },
        {
          "output_type": "display_data",
          "data": {
            "image/png": "[encoded data removed]",
            "text/plain": [
              "<Figure size 432x288 with 1 Axes>"
            ]
          },
          "metadata": {
            "needs_background": "light"
          }
        }
      ],
      "metadata": {
        "colab": {
          "base_uri": "https://localhost:8080/",
          "height": 282
        },
        "id": "w31B2fFDyJlp",
        "outputId": "eb5f2913-2bb7-4ca4-a0fb-bd55fcc98c6c"
      }
    },
    {
      "cell_type": "code",
      "execution_count": 5,
      "source": [
        "X_train = []\n",
        "Y_train = []"
      ],
      "outputs": [],
      "metadata": {
        "id": "A8d-JrGyybKQ"
      }
    },
    {
      "cell_type": "code",
      "execution_count": 6,
      "source": [
        "for i in range(0,10):\n",
        "  X_i = [x.reshape((784)) for j,x in enumerate(x_train) if y_train[j]==i]\n",
        "  X_train.extend(X_i[0:100])\n",
        "  Y_train.extend([i]*100)"
      ],
      "outputs": [],
      "metadata": {
        "id": "LcO1azZT6yRo"
      }
    },
    {
      "cell_type": "code",
      "execution_count": 7,
      "source": [
        "X_train = np.array(X_train)\n",
        "Y_train = np.array(Y_train)"
      ],
      "outputs": [],
      "metadata": {
        "id": "zK986IG96yUP"
      }
    },
    {
      "cell_type": "code",
      "execution_count": 8,
      "source": [
        "X_train.shape,Y_train.shape"
      ],
      "outputs": [
        {
          "output_type": "execute_result",
          "data": {
            "text/plain": [
              "((1000, 784), (1000,))"
            ]
          },
          "metadata": {},
          "execution_count": 8
        }
      ],
      "metadata": {
        "colab": {
          "base_uri": "https://localhost:8080/"
        },
        "id": "xCaEQ6JXy0Q3",
        "outputId": "baf97d3a-2dc4-4f1f-e624-aa1178bf4ae9"
      }
    },
    {
      "cell_type": "code",
      "execution_count": 9,
      "source": [
        "X_train = X_train.astype('float')/255"
      ],
      "outputs": [],
      "metadata": {
        "id": "32xajkkN8OVM"
      }
    },
    {
      "cell_type": "markdown",
      "source": [
        "## K-Means Algorithm"
      ],
      "metadata": {
        "id": "yOP3uJsf0Ix6"
      }
    },
    {
      "cell_type": "code",
      "execution_count": 10,
      "source": [
        "def clusterAssignment(X,Z):\n",
        "  C = np.zeros(shape=X.shape[0],dtype='int')\n",
        "  for i,x in enumerate(X):\n",
        "     C[i]= np.argmin(np.array([np.linalg.norm(x-z) for z in Z]),axis=0)\n",
        "  return C"
      ],
      "outputs": [],
      "metadata": {
        "id": "tiJGubqWy3A_"
      }
    },
    {
      "cell_type": "code",
      "execution_count": 11,
      "source": [
        "def updateRepresentatives(X,C,k):\n",
        "  Z = np.zeros(shape=(k,X.shape[1]))\n",
        "  for i in range(0,k):\n",
        "    cluster = [x for j,x in enumerate(X) if C[j]==i]\n",
        "    if(len(cluster)>0):\n",
        "      Z[i]=sum(cluster)/len(cluster)\n",
        "  return Z"
      ],
      "outputs": [],
      "metadata": {
        "id": "PF0opCx72-bo"
      }
    },
    {
      "cell_type": "code",
      "execution_count": 12,
      "source": [
        "def calculateJClust(X,Z,C):\n",
        "  J=0\n",
        "  for i,x in enumerate(X):\n",
        "    z=Z[C[i]]\n",
        "    J+=np.linalg.norm(x-z)\n",
        "  J/=X.shape[0]\n",
        "  return J"
      ],
      "outputs": [],
      "metadata": {
        "id": "BorgKOHA4iRz"
      }
    },
    {
      "cell_type": "code",
      "execution_count": 13,
      "source": [
        "def runKMeans(Z,X,k,verbose=0):\n",
        "  JClustPrev=0\n",
        "  numIter=0\n",
        "  while(True):\n",
        "    C = clusterAssignment(X,Z)\n",
        "    Z = updateRepresentatives(X,C,k)\n",
        "    JClust= calculateJClust(X,Z,C)\n",
        "    numIter+=1\n",
        "    if(verbose==1):\n",
        "      print(\"Iteration: \"+str(numIter)+\" JClust: \",JClust)\n",
        "    if(abs(JClustPrev-JClust)<1e-9 or numIter>50):\n",
        "      if(verbose==1):\n",
        "        print(\"Convergence Point Reached. Number of iterations: \",numIter)\n",
        "      break\n",
        "    JClustPrev=JClust\n",
        "  return JClust,Z"
      ],
      "outputs": [],
      "metadata": {
        "id": "Nu8UGnQq5iMy"
      }
    },
    {
      "cell_type": "markdown",
      "source": [
        "## Initialisation\n",
        "1. Random\n",
        "2. From Data set"
      ],
      "metadata": {
        "id": "xSsQ6WiW8cmm"
      }
    },
    {
      "cell_type": "code",
      "execution_count": 14,
      "source": [
        "def initialiseRandom(X,k):\n",
        "  Z = np.random.rand(k,X.shape[1])\n",
        "  return Z"
      ],
      "outputs": [],
      "metadata": {
        "id": "EOwuEZua8FBX"
      }
    },
    {
      "cell_type": "code",
      "execution_count": 15,
      "source": [
        "def initialiseFromData(X,k):\n",
        "  Z = X[np.random.choice(X.shape[0],k,replace=False),:]\n",
        "  return Z"
      ],
      "outputs": [],
      "metadata": {
        "id": "atvvotr3936a"
      }
    },
    {
      "cell_type": "markdown",
      "source": [
        "## Main Function"
      ],
      "metadata": {
        "id": "1arLv7A_25DS"
      }
    },
    {
      "cell_type": "code",
      "execution_count": 16,
      "source": [
        "def run(X,k,isRandom,verbose=0):\n",
        "  if isRandom:\n",
        "    Z = initialiseRandom(X,k)\n",
        "  else:\n",
        "    Z=initialiseFromData(X,k)\n",
        "  JClust,Z = runKMeans(Z,X,k,verbose)\n",
        "  if(verbose==1):\n",
        "    print(\"Final JClust: \",JClust)\n",
        "  return JClust,Z"
      ],
      "outputs": [],
      "metadata": {
        "id": "yLLZ5VvU2332"
      }
    },
    {
      "cell_type": "markdown",
      "source": [
        "## Random Initialisation"
      ],
      "metadata": {
        "id": "Dwtu7s-82GA5"
      }
    },
    {
      "cell_type": "code",
      "execution_count": 17,
      "source": [
        "np.random.seed(0)"
      ],
      "outputs": [],
      "metadata": {
        "id": "WG83u6emAhRU"
      }
    },
    {
      "cell_type": "markdown",
      "source": [
        "### (a) Run Algo for k=20 "
      ],
      "metadata": {
        "id": "fxe2XMjk2U_-"
      }
    },
    {
      "cell_type": "code",
      "execution_count": 18,
      "source": [
        "JClust,Z = run(X_train,20,True,1)"
      ],
      "outputs": [
        {
          "output_type": "stream",
          "name": "stdout",
          "text": [
            "Iteration: 1 JClust:  6.770737528170011\n",
            "Iteration: 2 JClust:  6.3032487301651585\n",
            "Iteration: 3 JClust:  6.142070403480715\n",
            "Iteration: 4 JClust:  6.0445750402055545\n",
            "Iteration: 5 JClust:  5.9808158624006245\n",
            "Iteration: 6 JClust:  5.937253056126858\n",
            "Iteration: 7 JClust:  5.897912774816969\n",
            "Iteration: 8 JClust:  5.870722545622701\n",
            "Iteration: 9 JClust:  5.850422883988627\n",
            "Iteration: 10 JClust:  5.833552922187079\n",
            "Iteration: 11 JClust:  5.8182641787498754\n",
            "Iteration: 12 JClust:  5.7964139250121836\n",
            "Iteration: 13 JClust:  5.780091739157012\n",
            "Iteration: 14 JClust:  5.77037976256076\n",
            "Iteration: 15 JClust:  5.767238268509165\n",
            "Iteration: 16 JClust:  5.763838285425098\n",
            "Iteration: 17 JClust:  5.759306760369302\n",
            "Iteration: 18 JClust:  5.756412528433082\n",
            "Iteration: 19 JClust:  5.755091613911309\n",
            "Iteration: 20 JClust:  5.753425073414303\n",
            "Iteration: 21 JClust:  5.752533153192423\n",
            "Iteration: 22 JClust:  5.751683149342716\n",
            "Iteration: 23 JClust:  5.751683149342716\n",
            "Convergence Point Reached. Number of iterations:  23\n",
            "Final JClust:  5.751683149342716\n"
          ]
        }
      ],
      "metadata": {
        "colab": {
          "base_uri": "https://localhost:8080/"
        },
        "id": "rntsZeCF2JeU",
        "outputId": "e08b0185-1304-4155-cbf6-e2a52570e284"
      }
    },
    {
      "cell_type": "markdown",
      "source": [
        "The number of iterations are 23."
      ],
      "metadata": {}
    },
    {
      "cell_type": "code",
      "execution_count": 19,
      "source": [
        "def plotClusterRepresentatives(Z):\n",
        "  k = Z.shape[0]\n",
        "  plt.figure(figsize=(20,10))\n",
        "  subplot_width = int(math.sqrt(k))\n",
        "  subplot_heigt=math.ceil(k/subplot_width)\n",
        "  for i in range(k):\n",
        "    plt.subplot(subplot_width,subplot_heigt,i+1)\n",
        "    plt.imshow(Z[i].reshape((28,28)),cmap='gray')"
      ],
      "outputs": [],
      "metadata": {
        "id": "7LltX9Eh3TQV"
      }
    },
    {
      "cell_type": "code",
      "execution_count": 20,
      "source": [
        "plotClusterRepresentatives(Z)"
      ],
      "outputs": [
        {
          "output_type": "display_data",
          "data": {
            "image/png": "[encoded data removed]",
            "text/plain": [
              "<Figure size 1440x720 with 20 Axes>"
            ]
          },
          "metadata": {
            "needs_background": "light"
          }
        }
      ],
      "metadata": {
        "colab": {
          "base_uri": "https://localhost:8080/",
          "height": 444
        },
        "id": "RJhiPUh3-Xid",
        "outputId": "da871eb2-e403-4e7a-bb97-9b70c9b75447"
      }
    },
    {
      "cell_type": "markdown",
      "source": [
        "### b) Get Accuracy on new images"
      ],
      "metadata": {
        "id": "sd1TO5PbBJ69"
      }
    },
    {
      "cell_type": "code",
      "execution_count": 21,
      "source": [
        "X_test = np.reshape(x_test,(x_test.shape[0],784))[0:50]\n",
        "Y_test = y_test[0:50]\n",
        "X_test = X_test.astype('float')/255"
      ],
      "outputs": [],
      "metadata": {
        "id": "KB2lwmbTBIOv"
      }
    },
    {
      "cell_type": "code",
      "execution_count": 22,
      "source": [
        "def getClusterPreds(Z,Y,C):\n",
        "  k = Z.shape[0]\n",
        "  preds = np.zeros(shape=k)\n",
        "  for i in range(0,k):\n",
        "    cluster_preds = [y for j,y in enumerate(Y) if C[j]==i]\n",
        "    if(len(cluster_preds)>0):\n",
        "      preds[i]=mode(cluster_preds)[0][0]\n",
        "      # print(pred)\n",
        "  return preds                       "
      ],
      "outputs": [],
      "metadata": {
        "id": "Cb6RWuTQB79_"
      }
    },
    {
      "cell_type": "code",
      "execution_count": 23,
      "source": [
        "def getAccuracy(X_train,Y_train,X_test,Y_test,Z):\n",
        "  C_test = clusterAssignment(X_test,Z)\n",
        "  C_train = clusterAssignment(X_train,Z)\n",
        "  cluster_preds = getClusterPreds(Z,Y_train,C_train)\n",
        "  test_preds = [cluster_preds[C_test[i]] for i in range(len(X_test))]\n",
        "  correct_count = len([1 for i in range(len(X_test)) if test_preds[i]==Y_test[i]])\n",
        "  accuracy = correct_count/len(X_test)\n",
        "  print(\"Accuracy: \" + str(accuracy*100)+\"%\")\n",
        "  return accuracy"
      ],
      "outputs": [],
      "metadata": {
        "id": "RflKBUEw-ZD-"
      }
    },
    {
      "cell_type": "code",
      "execution_count": 25,
      "source": [
        "acc = getAccuracy(X_train,Y_train,X_test,Y_test,Z)"
      ],
      "outputs": [
        {
          "output_type": "stream",
          "name": "stdout",
          "text": [
            "Accuracy: 57.99999999999999%\n"
          ]
        }
      ],
      "metadata": {
        "colab": {
          "base_uri": "https://localhost:8080/"
        },
        "id": "2nmUCPpnGpPf",
        "outputId": "9df98bd4-394b-4aa6-8301-5068cc64fd33"
      }
    },
    {
      "cell_type": "markdown",
      "source": [
        "### (c) Find optimal k"
      ],
      "metadata": {
        "id": "Ncp06qm8JOEL"
      }
    },
    {
      "cell_type": "code",
      "execution_count": 48,
      "source": [
        "np.random.seed(0)"
      ],
      "outputs": [],
      "metadata": {
        "id": "O3cYgEyZGVDe"
      }
    },
    {
      "cell_type": "code",
      "execution_count": 52,
      "source": [
        "JClusts=[]"
      ],
      "outputs": [],
      "metadata": {
        "id": "LLbno2208s4x"
      }
    },
    {
      "cell_type": "code",
      "execution_count": 53,
      "source": [
        "for k in range(5,21):\n",
        "  JClust,Z = run(X_train,k,True)\n",
        "  JClusts.append(JClust)\n",
        "  print(\"For k=\"+str(k)+\" JClust=\"+str(JClust))"
      ],
      "outputs": [
        {
          "output_type": "stream",
          "name": "stdout",
          "text": [
            "For k=5 JClust=6.4417873985305025\n",
            "For k=6 JClust=6.386788987994546\n",
            "For k=7 JClust=6.2630680711879165\n",
            "For k=8 JClust=6.159240509716435\n",
            "For k=9 JClust=6.125603008955211\n",
            "For k=10 JClust=6.07695789940871\n",
            "For k=11 JClust=6.023096370471135\n",
            "For k=12 JClust=5.904465254448122\n",
            "For k=13 JClust=5.8770654917130765\n",
            "For k=14 JClust=5.851042898106387\n",
            "For k=15 JClust=5.804326584882349\n",
            "For k=16 JClust=5.784803926626413\n",
            "For k=17 JClust=5.74992970835222\n",
            "For k=18 JClust=5.763089664873446\n",
            "For k=19 JClust=5.69955807317288\n",
            "For k=20 JClust=5.716614945360787\n"
          ]
        }
      ],
      "metadata": {
        "colab": {
          "base_uri": "https://localhost:8080/"
        },
        "id": "Gr9uZIvbGupM",
        "outputId": "80b979f0-85ec-4048-9f1a-1791bcf844a7"
      }
    },
    {
      "cell_type": "code",
      "execution_count": 54,
      "source": [
        "ks = np.arange(5,21, 1)\n",
        "plt.plot(ks,JClusts)"
      ],
      "outputs": [
        {
          "output_type": "execute_result",
          "data": {
            "text/plain": [
              "[<matplotlib.lines.Line2D at 0x7ff6bbf1be10>]"
            ]
          },
          "metadata": {},
          "execution_count": 54
        },
        {
          "output_type": "display_data",
          "data": {
            "image/png": "[encoded data removed]",
            "text/plain": [
              "<Figure size 432x288 with 1 Axes>"
            ]
          },
          "metadata": {
            "needs_background": "light"
          }
        }
      ],
      "metadata": {
        "colab": {
          "base_uri": "https://localhost:8080/",
          "height": 282
        },
        "id": "t-axey4d9hWI",
        "outputId": "ef2df6bf-77ba-43aa-a3dc-1e71908c6837"
      }
    },
    {
      "cell_type": "markdown",
      "source": [
        "The optimal k can be found by the elbow method. This is the point where the gradient of the above curve changes significantly. \n",
        "\n",
        "This is aroung 12 for the above curve. Therefore optimal k is around 12."
      ],
      "metadata": {
        "id": "fcECMP1WMqK4"
      }
    },
    {
      "cell_type": "markdown",
      "source": [
        "## Choosing Initial Cluster Representatives from Data"
      ],
      "metadata": {
        "id": "F5-9yjcIKGTl"
      }
    },
    {
      "cell_type": "code",
      "execution_count": 29,
      "source": [
        "np.random.seed(0)"
      ],
      "outputs": [],
      "metadata": {
        "id": "7PuBOCMqKTgd"
      }
    },
    {
      "cell_type": "markdown",
      "source": [
        "### a) Run for k=20"
      ],
      "metadata": {
        "id": "Swu52CQrKL5c"
      }
    },
    {
      "cell_type": "code",
      "execution_count": 30,
      "source": [
        "JClust,Z = run(X_train,20,False,1)"
      ],
      "outputs": [
        {
          "output_type": "stream",
          "name": "stdout",
          "text": [
            "Iteration: 1 JClust:  5.958245712761404\n",
            "Iteration: 2 JClust:  5.820957568463756\n",
            "Iteration: 3 JClust:  5.765130403337157\n",
            "Iteration: 4 JClust:  5.732278327577962\n",
            "Iteration: 5 JClust:  5.710879880784513\n",
            "Iteration: 6 JClust:  5.6904702316877085\n",
            "Iteration: 7 JClust:  5.6723322944057895\n",
            "Iteration: 8 JClust:  5.659286261493334\n",
            "Iteration: 9 JClust:  5.646746577860454\n",
            "Iteration: 10 JClust:  5.632403889010535\n",
            "Iteration: 11 JClust:  5.6236233087195435\n",
            "Iteration: 12 JClust:  5.617747897791757\n",
            "Iteration: 13 JClust:  5.612821084822115\n",
            "Iteration: 14 JClust:  5.610921068553357\n",
            "Iteration: 15 JClust:  5.610269958059275\n",
            "Iteration: 16 JClust:  5.610269958059275\n",
            "Convergence Point Reached. Number of iterations:  16\n",
            "Final JClust:  5.610269958059275\n"
          ]
        }
      ],
      "metadata": {
        "colab": {
          "base_uri": "https://localhost:8080/"
        },
        "id": "1-gOeyy9KFaW",
        "outputId": "7779ec7a-b428-4825-c12f-1043a16052bc"
      }
    },
    {
      "cell_type": "markdown",
      "source": [
        "The number of iterations are 16"
      ],
      "metadata": {}
    },
    {
      "cell_type": "code",
      "execution_count": 31,
      "source": [
        "plotClusterRepresentatives(Z)"
      ],
      "outputs": [
        {
          "output_type": "display_data",
          "data": {
            "image/png": "[encoded data removed]",
            "text/plain": [
              "<Figure size 1440x720 with 20 Axes>"
            ]
          },
          "metadata": {
            "needs_background": "light"
          }
        }
      ],
      "metadata": {
        "colab": {
          "base_uri": "https://localhost:8080/",
          "height": 444
        },
        "id": "GGJWPf_hJkO1",
        "outputId": "c4a70aab-64d0-4703-bd45-0cd18c6668dd"
      }
    },
    {
      "cell_type": "markdown",
      "source": [
        "### b) Get accuracy on new images"
      ],
      "metadata": {
        "id": "1n_jiaaiKh6i"
      }
    },
    {
      "cell_type": "code",
      "execution_count": 32,
      "source": [
        "X_test = np.reshape(x_test,(x_test.shape[0],784))[0:50]\n",
        "Y_test = y_test[0:50]\n",
        "X_test = X_test.astype('float')/255"
      ],
      "outputs": [],
      "metadata": {
        "id": "0ZBvDLm3Kge1"
      }
    },
    {
      "cell_type": "code",
      "execution_count": 34,
      "source": [
        "acc = getAccuracy(X_train,Y_train,X_test,Y_test,Z)"
      ],
      "outputs": [
        {
          "output_type": "stream",
          "name": "stdout",
          "text": [
            "Accuracy: 62.0%\n"
          ]
        }
      ],
      "metadata": {
        "colab": {
          "base_uri": "https://localhost:8080/"
        },
        "id": "rM3SatZzKdTi",
        "outputId": "b30ada87-de28-4d5a-a428-48651de5a51f"
      }
    },
    {
      "cell_type": "markdown",
      "source": [
        "### c) Get optimal k"
      ],
      "metadata": {
        "id": "zVAIoY3CKy4H"
      }
    },
    {
      "cell_type": "code",
      "execution_count": 35,
      "source": [
        "JClusts=[]"
      ],
      "outputs": [],
      "metadata": {
        "id": "CecKCWop-ogF"
      }
    },
    {
      "cell_type": "code",
      "execution_count": 37,
      "source": [
        "for k in range(5,21):\n",
        "  JClust,Z = run(X_train,k,False)\n",
        "  JClusts.append(JClust)\n",
        "  print(\"For k=\"+str(k)+\" JClust=\"+str(JClust))"
      ],
      "outputs": [
        {
          "output_type": "stream",
          "name": "stdout",
          "text": [
            "For k=5 JClust=6.426426049820854\n",
            "For k=6 JClust=6.34770202809676\n",
            "For k=7 JClust=6.244840540719731\n",
            "For k=8 JClust=6.180964984121043\n",
            "For k=9 JClust=6.095451037299832\n",
            "For k=10 JClust=6.05010208197846\n",
            "For k=11 JClust=6.052940040753614\n",
            "For k=12 JClust=5.927895868960719\n",
            "For k=13 JClust=5.815896514133724\n",
            "For k=14 JClust=5.806504062080104\n",
            "For k=15 JClust=5.813880784589077\n",
            "For k=16 JClust=5.767270322505432\n",
            "For k=17 JClust=5.728867542567085\n",
            "For k=18 JClust=5.655462386936539\n",
            "For k=19 JClust=5.638264161809674\n",
            "For k=20 JClust=5.609278146323625\n"
          ]
        }
      ],
      "metadata": {
        "colab": {
          "base_uri": "https://localhost:8080/"
        },
        "id": "1Ie9cVVEKrNI",
        "outputId": "303aa9e0-0b13-468f-8817-ffdf8ddb5376"
      }
    },
    {
      "cell_type": "code",
      "execution_count": 38,
      "source": [
        "ks = np.arange(5,21, 1)\n",
        "plt.plot(ks,JClusts)"
      ],
      "outputs": [
        {
          "output_type": "execute_result",
          "data": {
            "text/plain": [
              "[<matplotlib.lines.Line2D at 0x7ff6bc950a50>]"
            ]
          },
          "metadata": {},
          "execution_count": 38
        },
        {
          "output_type": "display_data",
          "data": {
            "image/png": "[encoded data removed]",
            "text/plain": [
              "<Figure size 432x288 with 1 Axes>"
            ]
          },
          "metadata": {
            "needs_background": "light"
          }
        }
      ],
      "metadata": {
        "colab": {
          "base_uri": "https://localhost:8080/",
          "height": 282
        },
        "id": "mMAFXPa_-rnH",
        "outputId": "dbdb99b1-54d1-42fe-a60d-5f24f1bb98cf"
      }
    },
    {
      "cell_type": "markdown",
      "source": [
        "The optimal k can be found be elbow method to be around 13 as the gradient changes significantly here. \n",
        "\n",
        "Thus k=13 is the optimal k"
      ],
      "metadata": {
        "id": "1MEplc3kM_X0"
      }
    },
    {
      "cell_type": "markdown",
      "source": [
        "### Does choice of initial condition have an effect on performance\n",
        "Yes, choice of intial conditions has an effect on performance. We can see that from the accuracies of both types of initialisations. \n",
        "\n",
        "We can aso observe that the accuracies are slightly different for every run.\n",
        "\n",
        "This is because k-means just shifts the cluster representatives a bit. If 2 cluster representatives get assigned close to cluster then they will split it in 2. Which will not occur in a different initialisation and should not occur too. \n",
        "\n",
        "The choice of initialisation also affects the speed as it converges faster for cluster representatives chosen from data.\n",
        "\n",
        "The choice of initialisation does not affect the optimal k though as we can see above that it is kind of same for both runs."
      ],
      "metadata": {
        "id": "-TZq45zsLmvW"
      }
    },
    {
      "cell_type": "code",
      "execution_count": null,
      "source": [],
      "outputs": [],
      "metadata": {
        "id": "vc6iXl_8K25U"
      }
    }
  ]
}